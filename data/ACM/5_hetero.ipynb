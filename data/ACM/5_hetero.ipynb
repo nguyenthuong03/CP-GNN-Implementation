{
 "cells": [
  {
   "cell_type": "code",
   "execution_count": 29,
   "metadata": {
    "collapsed": false
   },
   "outputs": [],
   "source": [
    "%matplotlib inline"
   ]
  },
  {
   "cell_type": "markdown",
   "metadata": {},
   "source": [
    "\n",
    ".. currentmodule:: dgl\n",
    "\n",
    "Working with Heterogeneous Graphs\n",
    "=================================\n",
    "\n",
    "**Author**: Quan Gan, `Minjie Wang <https://jermainewang.github.io/>`_, Mufei Li,\n",
    "George Karypis, Zheng Zhang\n",
    "\n",
    "In this tutorial, you learn about:\n",
    "\n",
    "* Examples of heterogenous graph data and typical applications.\n",
    "\n",
    "* Creating and manipulating a heterogenous graph in DGL.\n",
    "\n",
    "* Implementing `Relational-GCN <https://arxiv.org/abs/1703.06103>`_, a popular GNN model,\n",
    "  for heterogenous graph input.\n",
    "\n",
    "* Training a model to solve a node classification task.\n",
    "\n",
    "Heterogeneous graphs, or *heterographs* for short, are graphs that contain\n",
    "different types of nodes and edges. The different types of nodes and edges tend\n",
    "to have different types of attributes that are designed to capture the\n",
    "characteristics of each node and edge type. Within the context of\n",
    "graph neural networks, depending on their complexity, certain node and edge types\n",
    "might need to be modeled with representations that have a different number of dimensions.\n",
    "\n",
    "DGL supports graph neural network computations on such heterogeneous graphs, by\n",
    "using the heterograph class and its associated API.\n"
   ]
  },
  {
   "cell_type": "markdown",
   "metadata": {},
   "source": [
    "Examples of heterographs\n",
    "-----------------------\n",
    "Many graph datasets represent relationships among various types of entities.\n",
    "This section provides an overview for several graph use-cases that show such relationships \n",
    "and can have their data represented as heterographs.\n",
    "\n",
    "Citation graph \n",
    "~~~~~~~~~~~~~~~\n",
    "The Association for Computing Machinery publishes an `ACM dataset <https://aminer.org/citation>`_ that contains two\n",
    "million papers, their authors, publication venues, and the other papers\n",
    "that were cited. This information can be represented as a heterogeneous graph.\n",
    "\n",
    "The following diagram shows several entities in the ACM dataset and the relationships among them \n",
    "(taken from `Shi et al., 2015 <https://arxiv.org/pdf/1511.04854.pdf>`_).\n",
    "\n",
    ".. figure:: https://data.dgl.ai/tutorial/hetero/acm-example.png# \n",
    "\n",
    "This graph has three types of entities that correspond to papers, authors, and publication venues.\n",
    "It also contains three types of edges that connect the following:\n",
    "\n",
    "* Authors with papers corresponding to *written-by* relationships\n",
    "\n",
    "* Papers with publication venues corresponding to *published-in* relationships\n",
    "\n",
    "* Papers with other papers corresponding to *cited-by* relationships\n",
    "\n",
    "\n",
    "Recommender systems \n",
    "~~~~~~~~~~~~~~~~~~~~ \n",
    "The datasets used in recommender systems often contain\n",
    "interactions between users and items. For example, the data could include the\n",
    "ratings that users have provided to movies. Such interactions can be modeled\n",
    "as heterographs.\n",
    "\n",
    "The nodes in these heterographs will have two types, *users* and *movies*. The edges\n",
    "will correspond to the user-movie interactions. Furthermore, if an interaction is\n",
    "marked with a rating, then each rating value could correspond to a different edge type.\n",
    "The following diagram shows an example of user-item interactions as a heterograph.\n",
    "\n",
    ".. figure:: https://data.dgl.ai/tutorial/hetero/recsys-example.png\n",
    "\n",
    "\n",
    "Knowledge graph \n",
    "~~~~~~~~~~~~~~~~\n",
    "Knowledge graphs are inherently heterogenous. For example, in\n",
    "Wikidata, Barack Obama (item Q76) is an instance of a human, which could be viewed as\n",
    "the entity class, whose spouse (item P26) is Michelle Obama (item Q13133) and\n",
    "occupation (item P106) is politician (item Q82955). The relationships are shown in the following.\n",
    "diagram.\n",
    "\n",
    ".. figure:: https://data.dgl.ai/tutorial/hetero/kg-example.png\n",
    "\n",
    "\n"
   ]
  },
  {
   "cell_type": "markdown",
   "metadata": {},
   "source": [
    "Creating a heterograph in DGL\n",
    "-----------------------------\n",
    "You can create a heterograph in DGL using the :func:`dgl.heterograph` API.\n",
    "The argument to :func:`dgl.heterograph` is a dictionary. The keys are tuples\n",
    "in the form of ``(srctype, edgetype, dsttype)`` specifying the relation name\n",
    "and the two entity types it connects. Such tuples are called *canonical edge\n",
    "types*. The values are data to initialize the graph structures, that is, which\n",
    "nodes the edges actually connect.\n",
    "\n",
    "For instance, the following code creates the user-item interactions heterograph shown earlier.\n",
    "\n"
   ]
  },
  {
   "cell_type": "code",
   "execution_count": 16,
   "metadata": {
    "collapsed": false
   },
   "outputs": [],
   "source": [
    "# Each value of the dictionary is a pair of source and destination arrays.\n",
    "# Nodes are integer IDs starting from zero. Nodes IDs of different types have\n",
    "# separate countings.\n",
    "import dgl\n",
    "import numpy as np\n",
    "\n",
    "ratings = dgl.heterograph(\n",
    "    {('user', '+1', 'movie') : (np.array([0, 0, 1]), np.array([0, 1, 0])),\n",
    "     ('user', '-1', 'movie') : (np.array([2]), np.array([1]))})"
   ]
  },
  {
   "cell_type": "markdown",
   "metadata": {},
   "source": [
    "DGL supports creating a graph from a variety of data sources. The following\n",
    "code creates the same graph as the above.\n",
    "\n",
    "Creating from scipy matrix\n",
    "\n"
   ]
  },
  {
   "cell_type": "code",
   "execution_count": 17,
   "metadata": {
    "collapsed": false
   },
   "outputs": [],
   "source": [
    "import scipy.sparse as sp\n",
    "plus1 = sp.coo_matrix(([1, 1, 1], ([0, 0, 1], [0, 1, 0])), shape=(3, 2))\n",
    "minus1 = sp.coo_matrix(([1], ([2], [1])), shape=(3, 2))\n",
    "ratings = dgl.heterograph(\n",
    "    {('user', '+1', 'movie') : plus1,\n",
    "     ('user', '-1', 'movie') : minus1})\n",
    "\n",
    "# Creating from networkx graph\n",
    "import networkx as nx\n",
    "plus1 = nx.DiGraph()\n",
    "plus1.add_nodes_from(['u0', 'u1', 'u2'], bipartite=0)\n",
    "plus1.add_nodes_from(['m0', 'm1'], bipartite=1)\n",
    "plus1.add_edges_from([('u0', 'm0'), ('u0', 'm1'), ('u1', 'm0')])\n",
    "# To simplify the example, reuse the minus1 object.\n",
    "# This also means that you could use different sources of graph data\n",
    "# for different relationships.\n",
    "ratings = dgl.heterograph(\n",
    "    {('user', '+1', 'movie') : plus1,\n",
    "     ('user', '-1', 'movie') : minus1})"
   ]
  },
  {
   "cell_type": "markdown",
   "metadata": {},
   "source": [
    "Manipulating heterograph\n",
    "------------------------\n",
    "You can create a more realistic heterograph using the ACM dataset. To do this, first \n",
    "download the dataset as follows:\n",
    "\n"
   ]
  },
  {
   "cell_type": "code",
   "execution_count": 18,
   "metadata": {
    "collapsed": false
   },
   "outputs": [
    {
     "name": "stdout",
     "output_type": "stream",
     "text": [
      "['__header__', '__version__', '__globals__', 'TvsP', 'PvsA', 'PvsV', 'AvsF', 'VvsC', 'PvsL', 'PvsC', 'A', 'C', 'F', 'L', 'P', 'T', 'V', 'PvsT', 'CNormPvsA', 'RNormPvsA', 'CNormPvsC', 'RNormPvsC', 'CNormPvsT', 'RNormPvsT', 'CNormPvsV', 'RNormPvsV', 'CNormVvsC', 'RNormVvsC', 'CNormAvsF', 'RNormAvsF', 'CNormPvsL', 'RNormPvsL', 'stopwords', 'nPvsT', 'nT', 'CNormnPvsT', 'RNormnPvsT', 'nnPvsT', 'nnT', 'CNormnnPvsT', 'RNormnnPvsT', 'PvsP', 'CNormPvsP', 'RNormPvsP']\n"
     ]
    }
   ],
   "source": [
    "import scipy.io\n",
    "import urllib.request\n",
    "\n",
    "\n",
    "data_file_path = 'ACM.mat'\n",
    "\n",
    "data = scipy.io.loadmat(data_file_path)\n",
    "print(list(data.keys()))"
   ]
  },
  {
   "cell_type": "markdown",
   "metadata": {},
   "source": [
    "The dataset stores node information by their types: ``P`` for paper, ``A``\nfor author, ``C`` for conference, ``L`` for subject code, and so on. The relationships\nare stored as SciPy sparse matrix under key ``XvsY``, where ``X`` and ``Y``\ncould be any of the node type code.\n\nThe following code prints out some statistics about the paper-author relationships.\n\n"
   ]
  },
  {
   "cell_type": "code",
   "execution_count": 19,
   "metadata": {
    "collapsed": false
   },
   "outputs": [
    {
     "name": "stdout",
     "output_type": "stream",
     "text": [
      "<class 'scipy.sparse.csc.csc_matrix'>\n",
      "#Papers: 12499\n",
      "#Authors: 17431\n",
      "#Links: 37055\n"
     ]
    }
   ],
   "source": [
    "print(type(data['PvsA']))\nprint('#Papers:', data['PvsA'].shape[0])\nprint('#Authors:', data['PvsA'].shape[1])\nprint('#Links:', data['PvsA'].nnz)"
   ]
  },
  {
   "cell_type": "markdown",
   "metadata": {},
   "source": [
    "Converting this SciPy matrix to a heterograph in DGL is straightforward.\n\n"
   ]
  },
  {
   "cell_type": "code",
   "execution_count": 20,
   "metadata": {
    "collapsed": false
   },
   "outputs": [],
   "source": [
    "pa_g = dgl.heterograph({('paper', 'written-by', 'author') : data['PvsA']})\n# equivalent (shorter) API for creating heterograph with two node types:\npa_g = dgl.bipartite(data['PvsA'], 'paper', 'written-by', 'author')"
   ]
  },
  {
   "cell_type": "markdown",
   "metadata": {},
   "source": [
    "You can easily print out the type names and other structural information.\n\n"
   ]
  },
  {
   "cell_type": "code",
   "execution_count": 21,
   "metadata": {
    "collapsed": false
   },
   "outputs": [
    {
     "name": "stdout",
     "output_type": "stream",
     "text": [
      "Node types: ['paper', 'author']\n",
      "Edge types: ['written-by']\n",
      "Canonical edge types: [('paper', 'written-by', 'author')]\n",
      "12499\n",
      "37055\n",
      "37055\n",
      "tensor([3532, 6421, 8516, 8560])\n",
      "37055\n"
     ]
    }
   ],
   "source": [
    "print('Node types:', pa_g.ntypes)\nprint('Edge types:', pa_g.etypes)\nprint('Canonical edge types:', pa_g.canonical_etypes)\n\n# Nodes and edges are assigned integer IDs starting from zero and each type has its own counting.\n# To distinguish the nodes and edges of different types, specify the type name as the argument.\nprint(pa_g.number_of_nodes('paper'))\n# Canonical edge type name can be shortened to only one edge type name if it is\n# uniquely distinguishable.\nprint(pa_g.number_of_edges(('paper', 'written-by', 'author')))\nprint(pa_g.number_of_edges('written-by'))\nprint(pa_g.successors(1, etype='written-by'))  # get the authors that write paper #1\n\n# Type name argument could be omitted whenever the behavior is unambiguous.\nprint(pa_g.number_of_edges())  # Only one edge type, the edge type argument could be omitted"
   ]
  },
  {
   "cell_type": "markdown",
   "metadata": {},
   "source": [
    "A homogeneous graph is just a special case of a heterograph with only one type\nof node and edge. In this case, all the APIs are exactly the same as in\n:class:`DGLGraph`.\n\n"
   ]
  },
  {
   "cell_type": "code",
   "execution_count": 22,
   "metadata": {
    "collapsed": false
   },
   "outputs": [
    {
     "name": "stdout",
     "output_type": "stream",
     "text": [
      "12499\n",
      "30789\n",
      "tensor([1361, 2624, 8670, 9845])\n"
     ]
    }
   ],
   "source": [
    "# Paper-citing-paper graph is a homogeneous graph\npp_g = dgl.heterograph({('paper', 'citing', 'paper') : data['PvsP']})\n# equivalent (shorter) API for creating homogeneous graph\npp_g = dgl.graph(data['PvsP'], 'paper', 'cite')\n\n# All the ntype and etype arguments could be omitted because the behavior is unambiguous.\nprint(pp_g.number_of_nodes())\nprint(pp_g.number_of_edges())\nprint(pp_g.successors(3))"
   ]
  },
  {
   "cell_type": "markdown",
   "metadata": {},
   "source": [
    "Create a subset of the ACM graph using the paper-author, paper-paper, \nand paper-subject relationships.  Meanwhile, also add the reverse\nrelationship to prepare for the later sections.\n\n"
   ]
  },
  {
   "cell_type": "code",
   "execution_count": 23,
   "metadata": {
    "collapsed": false
   },
   "outputs": [
    {
     "name": "stdout",
     "output_type": "stream",
     "text": [
      "Graph(num_nodes={'author': 17431, 'paper': 12499, 'subject': 73},\n",
      "      num_edges={('paper', 'written-by', 'author'): 37055, ('author', 'writing', 'paper'): 37055, ('paper', 'citing', 'paper'): 30789, ('paper', 'cited', 'paper'): 30789, ('paper', 'is-about', 'subject'): 12499, ('subject', 'has', 'paper'): 12499},\n",
      "      metagraph=[('author', 'paper'), ('paper', 'author'), ('paper', 'paper'), ('paper', 'paper'), ('paper', 'subject'), ('subject', 'paper')])\n"
     ]
    }
   ],
   "source": [
    "G = dgl.heterograph({\n        ('paper', 'written-by', 'author') : data['PvsA'],\n        ('author', 'writing', 'paper') : data['PvsA'].transpose(),\n        ('paper', 'citing', 'paper') : data['PvsP'],\n        ('paper', 'cited', 'paper') : data['PvsP'].transpose(),\n        ('paper', 'is-about', 'subject') : data['PvsL'],\n        ('subject', 'has', 'paper') : data['PvsL'].transpose(),\n    })\n\nprint(G)"
   ]
  },
  {
   "cell_type": "markdown",
   "metadata": {},
   "source": [
    "**Metagraph** (or network schema) is a useful summary of a heterograph.\nServing as a template for a heterograph, it tells how many types of objects\nexist in the network and where the possible links exist.\n\nDGL provides easy access to the metagraph, which could be visualized using\nexternal tools.\n\n"
   ]
  },
  {
   "cell_type": "code",
   "execution_count": 24,
   "metadata": {
    "collapsed": false
   },
   "outputs": [],
   "source": [
    "# Draw the metagraph using graphviz.\nimport pygraphviz as pgv\ndef plot_graph(nxg):\n    ag = pgv.AGraph(strict=False, directed=True)\n    for u, v, k in nxg.edges(keys=True):\n        ag.add_edge(u, v, label=k)\n    ag.layout('dot')\n    ag.draw('graph.png')\n\nplot_graph(G.metagraph)"
   ]
  },
  {
   "cell_type": "markdown",
   "metadata": {},
   "source": [
    "Learning tasks associated with heterographs\n-------------------------------------------\nSome of the typical learning tasks that involve heterographs include:\n\n* *Node classification and regression* to predict the class of each node or\n  estimate a value associated with it.\n\n* *Link prediction* to predict if there is an edge of a certain\n  type between a pair of nodes, or predict which other nodes a particular\n  node is connected with (and optionally the edge types of such connections).\n\n* *Graph classification/regression* to assign an entire\n  heterograph into one of the target classes or to estimate a numerical\n  value associated with it.\n\nIn this tutorial, we designed a simple example for the first task.\n\nA semi-supervised node classification example\n~~~~~~~~~~~~~~~~~~~~~~~~~~~~~~~~~~~~~~~~~~~~~\nOur goal is to predict the publishing conference of a paper using the ACM\nacademic graph we just created. To further simplify the task, we only focus\non papers published in three conferences: *KDD*, *ICML*, and *VLDB*. All\nthe other papers are not labeled, making it a semi-supervised setting.\n\nThe following code extracts those papers from the raw dataset and prepares \nthe training, validation, testing split.\n\n"
   ]
  },
  {
   "cell_type": "code",
   "execution_count": 25,
   "metadata": {
    "collapsed": false
   },
   "outputs": [],
   "source": [
    "import numpy as np\nimport torch\nimport torch.nn as nn\nimport torch.nn.functional as F\n\npvc = data['PvsC'].tocsr()\n# find all papers published in KDD, ICML, VLDB\nc_selected = [0, 11, 13]  # KDD, ICML, VLDB\np_selected = pvc[:, c_selected].tocoo()\n# generate labels\nlabels = pvc.indices\nlabels[labels == 11] = 1\nlabels[labels == 13] = 2\nlabels = torch.tensor(labels).long()\n\n# generate train/val/test split\npid = p_selected.row\nshuffle = np.random.permutation(pid)\ntrain_idx = torch.tensor(shuffle[0:800]).long()\nval_idx = torch.tensor(shuffle[800:900]).long()\ntest_idx = torch.tensor(shuffle[900:]).long()"
   ]
  },
  {
   "cell_type": "markdown",
   "metadata": {},
   "source": [
    "Relational-GCN on heterograph\n~~~~~~~~~~~~~~~~~~~~~~~~~~~~~\nWe use `Relational-GCN <https://arxiv.org/abs/1703.06103>`_ to learn the\nrepresentation of nodes in the graph. Its message-passing equation is as\nfollows:\n\n\\begin{align}h_i^{(l+1)} = \\sigma\\left(\\sum_{r\\in \\mathcal{R}}\n   \\sum_{j\\in\\mathcal{N}_r(i)}W_r^{(l)}h_j^{(l)}\\right)\\end{align}\n\nBreaking down the equation, you see that there are two parts in the\ncomputation.\n\n(i) Message computation and aggregation within each relation $r$\n\n(ii) Reduction that merges the results from multiple relationships\n\nFollowing this intuition, perform message passing on a heterograph in\ntwo steps.\n\n(i) Per-edge-type message passing\n\n(ii) Type wise reduction\n\n"
   ]
  },
  {
   "cell_type": "code",
   "execution_count": 26,
   "metadata": {
    "collapsed": false
   },
   "outputs": [],
   "source": [
    "import dgl.function as fn\n\nclass HeteroRGCNLayer(nn.Module):\n    def __init__(self, in_size, out_size, etypes):\n        super(HeteroRGCNLayer, self).__init__()\n        # W_r for each relation\n        self.weight = nn.ModuleDict({\n                name : nn.Linear(in_size, out_size) for name in etypes\n            })\n\n    def forward(self, G, feat_dict):\n        # The input is a dictionary of node features for each type\n        funcs = {}\n        for srctype, etype, dsttype in G.canonical_etypes:\n            # Compute W_r * h\n            Wh = self.weight[etype](feat_dict[srctype])\n            # Save it in graph for message passing\n            G.nodes[srctype].data['Wh_%s' % etype] = Wh\n            # Specify per-relation message passing functions: (message_func, reduce_func).\n            # Note that the results are saved to the same destination feature 'h', which\n            # hints the type wise reducer for aggregation.\n            funcs[etype] = (fn.copy_u('Wh_%s' % etype, 'm'), fn.mean('m', 'h'))\n        # Trigger message passing of multiple types.\n        # The first argument is the message passing functions for each relation.\n        # The second one is the type wise reducer, could be \"sum\", \"max\",\n        # \"min\", \"mean\", \"stack\"\n        G.multi_update_all(funcs, 'sum')\n        # return the updated node feature dictionary\n        return {ntype : G.nodes[ntype].data['h'] for ntype in G.ntypes}"
   ]
  },
  {
   "cell_type": "markdown",
   "metadata": {},
   "source": [
    "Create a simple GNN by stacking two ``HeteroRGCNLayer``. Since the\nnodes do not have input features, make their embeddings trainable.\n\n"
   ]
  },
  {
   "cell_type": "code",
   "execution_count": 27,
   "metadata": {
    "collapsed": false
   },
   "outputs": [],
   "source": [
    "class HeteroRGCN(nn.Module):\n    def __init__(self, G, in_size, hidden_size, out_size):\n        super(HeteroRGCN, self).__init__()\n        # Use trainable node embeddings as featureless inputs.\n        embed_dict = {ntype : nn.Parameter(torch.Tensor(G.number_of_nodes(ntype), in_size))\n                      for ntype in G.ntypes}\n        for key, embed in embed_dict.items():\n            nn.init.xavier_uniform_(embed)\n        self.embed = nn.ParameterDict(embed_dict)\n        # create layers\n        self.layer1 = HeteroRGCNLayer(in_size, hidden_size, G.etypes)\n        self.layer2 = HeteroRGCNLayer(hidden_size, out_size, G.etypes)\n\n    def forward(self, G):\n        h_dict = self.layer1(G, self.embed)\n        h_dict = {k : F.leaky_relu(h) for k, h in h_dict.items()}\n        h_dict = self.layer2(G, h_dict)\n        # get paper logits\n        return h_dict['paper']"
   ]
  },
  {
   "cell_type": "markdown",
   "metadata": {},
   "source": [
    "Train and evaluate\n~~~~~~~~~~~~~~~~~~\nTrain and evaluate this network.\n\n"
   ]
  },
  {
   "cell_type": "code",
   "execution_count": 28,
   "metadata": {
    "collapsed": false
   },
   "outputs": [
    {
     "name": "stdout",
     "output_type": "stream",
     "text": [
      "Loss 1.1451, Train Acc 0.2837, Val Acc 0.2500 (Best 0.2500), Test Acc 0.2722 (Best 0.2722)\n",
      "Loss 0.9611, Train Acc 0.4688, Val Acc 0.4800 (Best 0.5800), Test Acc 0.4422 (Best 0.5075)\n",
      "Loss 0.8338, Train Acc 0.5450, Val Acc 0.5700 (Best 0.5800), Test Acc 0.5235 (Best 0.5075)\n",
      "Loss 0.6427, Train Acc 0.8612, Val Acc 0.7600 (Best 0.7600), Test Acc 0.6993 (Best 0.6993)\n",
      "Loss 0.4366, Train Acc 0.9600, Val Acc 0.7900 (Best 0.8100), Test Acc 0.7848 (Best 0.7504)\n",
      "Loss 0.2720, Train Acc 0.9663, Val Acc 0.8100 (Best 0.8200), Test Acc 0.7797 (Best 0.7806)\n",
      "Loss 0.1729, Train Acc 0.9675, Val Acc 0.8000 (Best 0.8200), Test Acc 0.7873 (Best 0.7806)\n",
      "Loss 0.1191, Train Acc 0.9725, Val Acc 0.8300 (Best 0.8300), Test Acc 0.7822 (Best 0.7822)\n",
      "Loss 0.0893, Train Acc 0.9825, Val Acc 0.8300 (Best 0.8300), Test Acc 0.7848 (Best 0.7822)\n",
      "Loss 0.0697, Train Acc 0.9950, Val Acc 0.8400 (Best 0.8400), Test Acc 0.7873 (Best 0.7856)\n",
      "Loss 0.0556, Train Acc 1.0000, Val Acc 0.8400 (Best 0.8400), Test Acc 0.7906 (Best 0.7856)\n",
      "Loss 0.0451, Train Acc 1.0000, Val Acc 0.8500 (Best 0.8500), Test Acc 0.7982 (Best 0.7940)\n",
      "Loss 0.0377, Train Acc 1.0000, Val Acc 0.8500 (Best 0.8500), Test Acc 0.7990 (Best 0.7940)\n",
      "Loss 0.0323, Train Acc 1.0000, Val Acc 0.8500 (Best 0.8500), Test Acc 0.7956 (Best 0.7940)\n",
      "Loss 0.0282, Train Acc 1.0000, Val Acc 0.8600 (Best 0.8600), Test Acc 0.7965 (Best 0.7965)\n",
      "Loss 0.0251, Train Acc 1.0000, Val Acc 0.8700 (Best 0.8700), Test Acc 0.7973 (Best 0.7982)\n",
      "Loss 0.0228, Train Acc 1.0000, Val Acc 0.8500 (Best 0.8700), Test Acc 0.8015 (Best 0.7982)\n",
      "Loss 0.0209, Train Acc 1.0000, Val Acc 0.8500 (Best 0.8700), Test Acc 0.7956 (Best 0.7982)\n",
      "Loss 0.0193, Train Acc 1.0000, Val Acc 0.8600 (Best 0.8700), Test Acc 0.7965 (Best 0.7982)\n",
      "Loss 0.0180, Train Acc 1.0000, Val Acc 0.8700 (Best 0.8700), Test Acc 0.7931 (Best 0.7982)\n"
     ]
    }
   ],
   "source": [
    "# Create the model. The output has three logits for three classes.\nmodel = HeteroRGCN(G, 10, 10, 3)\n\nopt = torch.optim.Adam(model.parameters(), lr=0.01, weight_decay=5e-4)\n\nbest_val_acc = 0\nbest_test_acc = 0\n\nfor epoch in range(100):\n    logits = model(G)\n    # The loss is computed only for labeled nodes.\n    loss = F.cross_entropy(logits[train_idx], labels[train_idx])\n\n    pred = logits.argmax(1)\n    train_acc = (pred[train_idx] == labels[train_idx]).float().mean()\n    val_acc = (pred[val_idx] == labels[val_idx]).float().mean()\n    test_acc = (pred[test_idx] == labels[test_idx]).float().mean()\n\n    if best_val_acc < val_acc:\n        best_val_acc = val_acc\n        best_test_acc = test_acc\n\n    opt.zero_grad()\n    loss.backward()\n    opt.step()\n\n    if epoch % 5 == 0:\n        print('Loss %.4f, Train Acc %.4f, Val Acc %.4f (Best %.4f), Test Acc %.4f (Best %.4f)' % (\n            loss.item(),\n            train_acc.item(),\n            val_acc.item(),\n            best_val_acc.item(),\n            test_acc.item(),\n            best_test_acc.item(),\n        ))"
   ]
  },
  {
   "cell_type": "markdown",
   "metadata": {},
   "source": [
    "What's next?\n------------\n* Check out our full implementation in PyTorch\n  `here <https://github.com/dmlc/dgl/tree/master/examples/pytorch/rgcn-hetero>`_.\n\n* We also provide the following model examples:\n\n  * `Graph Convolutional Matrix Completion <https://arxiv.org/abs/1706.02263>_`,\n    which we implement in MXNet\n    `here <https://github.com/dmlc/dgl/tree/v0.4.0/examples/mxnet/gcmc>`_.\n\n  * `Heterogeneous Graph Attention Network <https://arxiv.org/abs/1903.07293>`_\n    requires transforming a heterograph into a homogeneous graph according to\n    a given metapath (i.e. a path template consisting of edge types).  We\n    provide :func:`dgl.transform.metapath_reachable_graph` to do this.  See full\n    implementation\n    `here <https://github.com/dmlc/dgl/tree/master/examples/pytorch/han>`_.\n\n  * `Metapath2vec <https://dl.acm.org/citation.cfm?id=3098036>`_ requires\n    generating random walk paths according to a given metapath.  Please\n    refer to the full metapath2vec implementation\n    `here <https://github.com/dmlc/dgl/tree/master/examples/pytorch/metapath2vec>`_.\n\n* :doc:`Full heterograph API reference <../../api/python/heterograph>`.\n\n"
   ]
  }
 ],
 "metadata": {
  "kernelspec": {
   "name": "conda-env-luo-py",
   "language": "python",
   "display_name": "Python [conda env:luo] *"
  },
  "language_info": {
   "codemirror_mode": {
    "name": "ipython",
    "version": 3
   },
   "file_extension": ".py",
   "mimetype": "text/x-python",
   "name": "python",
   "nbconvert_exporter": "python",
   "pygments_lexer": "ipython3",
   "version": "3.7.3"
  }
 },
 "nbformat": 4,
 "nbformat_minor": 0
}